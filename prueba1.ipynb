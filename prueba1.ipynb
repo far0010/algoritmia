{
 "cells": [
  {
   "cell_type": "markdown",
   "id": "aa7714dd-0a7d-4744-8a48-e9ca06b071d8",
   "metadata": {},
   "source": [
    "Texto de prueba"
   ]
  },
  {
   "cell_type": "code",
   "execution_count": 5,
   "id": "d6bd09d7-c178-42ae-b742-49426a6fd9eb",
   "metadata": {
    "scrolled": true
   },
   "outputs": [
    {
     "name": "stdout",
     "output_type": "stream",
     "text": [
      "hola\n"
     ]
    }
   ],
   "source": [
    "print (\"hola\")"
   ]
  }
 ],
 "metadata": {
  "kernelspec": {
   "display_name": "Python [conda env:base] *",
   "language": "python",
   "name": "conda-base-py"
  },
  "language_info": {
   "codemirror_mode": {
    "name": "ipython",
    "version": 3
   },
   "file_extension": ".py",
   "mimetype": "text/x-python",
   "name": "python",
   "nbconvert_exporter": "python",
   "pygments_lexer": "ipython3",
   "version": "3.12.7"
  }
 },
 "nbformat": 4,
 "nbformat_minor": 5
}
