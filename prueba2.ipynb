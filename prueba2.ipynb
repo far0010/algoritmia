{
 "cells": [
  {
   "cell_type": "markdown",
   "id": "f155009f-a707-47ea-9029-05a456998b5e",
   "metadata": {},
   "source": [
    "prueba 2 "
   ]
  },
  {
   "cell_type": "code",
   "execution_count": 1,
   "id": "bdf11d18-c158-43fb-94b5-4c121e33ebc2",
   "metadata": {},
   "outputs": [
    {
     "name": "stdout",
     "output_type": "stream",
     "text": [
      "mundo\n"
     ]
    }
   ],
   "source": [
    "print (\"mundo\")"
   ]
  }
 ],
 "metadata": {
  "kernelspec": {
   "display_name": "Python [conda env:base] *",
   "language": "python",
   "name": "conda-base-py"
  },
  "language_info": {
   "codemirror_mode": {
    "name": "ipython",
    "version": 3
   },
   "file_extension": ".py",
   "mimetype": "text/x-python",
   "name": "python",
   "nbconvert_exporter": "python",
   "pygments_lexer": "ipython3",
   "version": "3.12.7"
  }
 },
 "nbformat": 4,
 "nbformat_minor": 5
}
