








# Importaciones
import unittest
from itertools import chain, count, cycle, repeat, zip_longest


# Número de iteraciones que se usan en algunos tests.
# Cuando se está realizando la práctica puede ser conveniente utilizar un valor más pequeño para que vaya más rápido.
# Pero una vez finalizada debería poder ejecutarse con este valor en un tiempo de minutos.
num_iteraciones_test = 10**7








 def fibonacci_generalizado(k, iniciales = None):
    """
    Genera indefinidamente valores de la secuencia generalizada de Fibonacci.
    Cada valor, salvo los iniciales, es la suma de los k anteriores.
    Los valores iniciales, que deben ser k, son los valores de F(0) ... F(k-1).
    El valor por defecto de los valores iniciales es 1.
    El espacio de memoria utilizado debería ser O(k)
    """
    n=[]
    # comprobamos si no tenemos datos iniciales, en ese caso los añadimos k unos y devolvemos
    if(iniciales==None):
        for x in range(k):
            n.append(1)
            yield n[x]
    # si hay datos iniciales los añadimos y devolvemos.
    else:
        for x in range(len(iniciales)):
            n.append(iniciales[x])
            yield n[x]
    x=len(n)
    while True:
        # mientras nos pidan datos, hacemos la suma de los k anteriores, añadimos y devolvemos.
        suma=0
        for i in range(1,k+1):
            suma+=n[x-i]
        n.append(suma)
        yield n[x]
        x+=1
     





"""
class TestFibonacciGeneralizado(unittest.TestCase):
    
    def setUp(self):
        # Distintos casos de prueba formados por k (el orden de la secuencia),
        # los valores iniciales y el inicio de la secuencia que se debe
        # generar
        self.casos_prueba = (
            (2, None, [1, 1, 2, 3, 5, 8, 13, 21, 34]),
            (2, [2, 2], [2, 2, 4, 6, 10, 16, 26, 42]),
            (3, None, [1, 1, 1, 3, 5, 9, 17, 31, 57]),
            (4, None, [1, 1, 1, 1, 4, 7, 13, 25, 49]),
        )
        
    def test_1(self):
        # Primera comprobación de los casos de prueba
        for k, iniciales, secuencia in self.casos_prueba:
            i = 0
            for v in fibonacci_generalizado(k, iniciales):
                if i >= len(secuencia):
                    break
                self.assertEqual(v, secuencia[i])
                i += 1
            assert i == len(secuencia)

    def test_2(self):
        # Segunda comprobación de los casos de prueba
        for k, iniciales, secuencia in self.casos_prueba:
            for v, w in zip(fibonacci_generalizado(k, iniciales), secuencia):
                self.assertEqual(v, w)
               
    def test_3(self):
        # Tercera comprobación de los casos de prueba
        for k, iniciales, secuencia in self.casos_prueba: 
            generador = fibonacci_generalizado(k, iniciales)
            for v in secuencia:
                self.assertEqual(v, next(generador))
               
    def test_muchos_valores(self):
        # Comprobación de que se generan muchos valores
        generador = fibonacci_generalizado(4, [0, 0, 0, 0])
        for _ in range(num_iteraciones_test):
            self.assertEqual(next(generador), 0)
"""








def iter_repetido(itera, repeticiones):
    """
    Genera los elementos del primer argumento tantas veces como el elemento 
    correspondiente del segundo argumento.
    Se espera que los elementos del segundo argumento sean números naturales.
    El primer elemento del primer argumento se genera tantas veces como el 
    primer elemento del segundo argumento, ... el elemento i-ésimo del primer 
    argumento se genera tantas veces como el elemento i-ésimo del segundo
    argumento...
    Si el número de elementos de los dos argumentos fuera diferente, se
    generarán elementos hasta que uno se quede sin elementos.
    """
    # generamos los iteradores
    it1=iter(itera)
    it2=iter(repeticiones)
    try:
        while True:
            # obtenemos el dato a duplicar y las repeticiones
            dato=next(it1)
            repes=next(it2)
            for x in range(repes):
                yield dato
    # si alguno de los dos iteradores se queda vacío salimos.
    except StopIteration:
        return            
    





"""
class TestIterRepetido(unittest.TestCase):
    
    def setUp(self):
        # Distintos casos de prueba formados por el iterable, las repeticiones
        # y la lista de valores que se deben generar
        self.casos_prueba = (
            ("abc", [3, 0, 2], ['a', 'a', 'a', 'c', 'c']),
            ("abcd", [3, 0, 2], ['a', 'a', 'a', 'c', 'c']),
            ("abc", [3, 0, 2, 4], ['a', 'a', 'a', 'c', 'c']),
            (range(3), range(1, 4), [0, 1, 1, 2, 2, 2])
    )
        
    def test_1(self):
        # Primera comprobación de los casos de prueba
        for iterable, repeticiones, lista in self.casos_prueba:
            self.assertEqual(list(iter_repetido(iterable, repeticiones)), 
                             lista)

    def test_2(self):
        # Segunda comprobación de los casos de prueba
        for iterable, repeticiones, lista in self.casos_prueba:
            for v, w in zip_longest(iter_repetido(iterable, repeticiones), 
                                    lista):
                self.assertEqual(v, w)

    def test_3(self):
        # Tercera comprobación de los casos de prueba        
        for iterable, repeticiones, lista in self.casos_prueba:
            generador = iter_repetido(iterable, repeticiones)
            for v in lista:
                self.assertEqual(v, next(generador))
                
    def test_muchos_valores_1(self):
        # Primera comprobación de que se generan muchos valores
        generador = iter_repetido(count(), repeat(1))
        for i in range(num_iteraciones_test):
            self.assertEqual(i, next(generador))

    def test_muchos_valores_2(self):
        # Segunda comprobación de que se generan muchos valores
        repeticiones = [3, 0, 1]
        generador = iter_repetido(count(), cycle(repeticiones))
        r = 0
        for i in range(num_iteraciones_test):
            for _ in range(repeticiones[r]):
                self.assertEqual(i, next(generador))
            r = r + 1 
            if r == len(repeticiones): r = 0            
"""








def iter_mezcla(iter_1, iter_2):
    """
    Dados dos iteradores o iterables, suponiendo que ambos generan valores en
    orden, se generan los elementos de ambos de manera ordenada.
    La cantidad de memoria usada debe ser O(1).
    """

    # generamos iteradores
    iter1=iter(iter_1)
    iter2=iter(iter_2)
    try:
        a=next(iter1)
        b=next(iter2)
        while True:
            if a<=b:
                print(a)
                yield a
                a=next(iter1)
            else:
                print(b)
                yield b
                b=next(iter2)
    except StopIteration:
        return





class TestIterMezcla(unittest.TestCase):
    
    def setUp(self):
        # Distintos casos de prueba formados por los dos iterables de entrada y
        # un tercero con la salida esperada
        self.casos_prueba = (
            (range(100), range(100, 200), range(200)),
            (range(0, 100, 2), range(1, 100, 2), range(100)),
            (range(0, 100, 4), range(2, 100, 4), range(0, 100, 2)),
            (range(0, 100), range(200, 300), 
             chain(range(0, 100), range(200, 300))),
            (range(100), range(100), (x for x in range(100) for _ in range(2))),
            (range(0, 100, 3), range(0, 100, 5), 
             sorted(chain(range(0, 100, 3), range(0, 100, 5)))),
            (range(num_iteraciones_test), 
             range(num_iteraciones_test, 2*num_iteraciones_test),
             range(2*num_iteraciones_test)),
            (range(0, num_iteraciones_test, 2), 
             range(1, num_iteraciones_test, 2), 
             range(num_iteraciones_test)),
            (range(num_iteraciones_test), range(num_iteraciones_test), 
             (x for x in range(num_iteraciones_test) for _ in range(2)))
        )
        
    def test_1(self):
        # Primera comprobación con los casos de prueba
        for it_1, it_2, it_resultado in self.casos_prueba:
            for v, w in zip_longest(iter_mezcla(it_1, it_2), it_resultado):
                self.assertEqual(v, w) 

    def test_2(self):
        # Segunda comprobación con los casos de prueba
        # La diferencia con la primera es el orden en que se pasan los iterables
        for it_1, it_2, it_resultado in self.casos_prueba:
            for v, w in zip_longest(iter_mezcla(it_2, it_1), it_resultado):
                self.assertEqual(v, w) 






if __name__ == '__main__':
    unittest.main(argv=['first-arg-is-ignored'], exit=False)



